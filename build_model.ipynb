{
  "cells": [
    {
      "cell_type": "markdown",
      "metadata": {
        "id": "Eg62Pmz3o83v"
      },
      "source": [
        "*Note: You are currently reading this using Google Colaboratory which is a cloud-hosted version of Jupyter Notebook. This is a document containing both text cells for documentation and runnable code cells. If you are unfamiliar with Jupyter Notebook, watch this 3-minute introduction before starting this challenge: https://www.youtube.com/watch?v=inN8seMm7UI*\n",
        "\n",
        "---\n",
        "\n",
        "In this challenge, you need to create a machine learning model that will classify SMS messages as either \"ham\" or \"spam\". A \"ham\" message is a normal message sent by a friend. A \"spam\" message is an advertisement or a message sent by a company.\n",
        "\n",
        "You should create a function called `predict_message` that takes a message string as an argument and returns a list. The first element in the list should be a number between zero and one that indicates the likeliness of \"ham\" (0) or \"spam\" (1). The second element in the list should be the word \"ham\" or \"spam\", depending on which is most likely.\n",
        "\n",
        "For this challenge, you will use the [SMS Spam Collection dataset](http://www.dt.fee.unicamp.br/~tiago/smsspamcollection/). The dataset has already been grouped into train data and test data.\n",
        "\n",
        "The first two cells import the libraries and data. The final cell tests your model and function. Add your code in between these cells.\n"
      ]
    },
    {
      "cell_type": "code",
      "execution_count": 1,
      "metadata": {
        "id": "8RZOuS9LWQvv"
      },
      "outputs": [
        {
          "name": "stderr",
          "output_type": "stream",
          "text": [
            "WARNING: You are using pip version 21.3; however, version 21.3.1 is available.\n",
            "You should consider upgrading via the 'c:\\users\\tizbi\\appdata\\local\\programs\\python\\python39\\python.exe -m pip install --upgrade pip' command.\n",
            "C:\\Users\\tizbi\\AppData\\Local\\Programs\\Python\\Python39\\lib\\site-packages\\numpy\\_distributor_init.py:30: UserWarning: loaded more than 1 DLL from .libs:\n",
            "C:\\Users\\tizbi\\AppData\\Local\\Programs\\Python\\Python39\\lib\\site-packages\\numpy\\.libs\\libopenblas.NOIJJG62EMASZI6NYURL6JBKM4EVBGM7.gfortran-win_amd64.dll\n",
            "C:\\Users\\tizbi\\AppData\\Local\\Programs\\Python\\Python39\\lib\\site-packages\\numpy\\.libs\\libopenblas.XWYDX2IKJW2NMTWSFYNGFUWKQU3LYTCZ.gfortran-win_amd64.dll\n",
            "  warnings.warn(\"loaded more than 1 DLL from .libs:\"\n"
          ]
        },
        {
          "name": "stdout",
          "output_type": "stream",
          "text": [
            "Requirement already satisfied: tf-nightly in c:\\users\\tizbi\\appdata\\local\\programs\\python\\python39\\lib\\site-packages (2.8.0.dev20211003)\n",
            "Requirement already satisfied: numpy>=1.14.5 in c:\\users\\tizbi\\appdata\\local\\programs\\python\\python39\\lib\\site-packages (from tf-nightly) (1.21.2)\n",
            "Requirement already satisfied: absl-py>=0.4.0 in c:\\users\\tizbi\\appdata\\local\\programs\\python\\python39\\lib\\site-packages (from tf-nightly) (0.12.0)\n",
            "Requirement already satisfied: h5py>=2.9.0 in c:\\users\\tizbi\\appdata\\local\\programs\\python\\python39\\lib\\site-packages (from tf-nightly) (3.1.0)\n",
            "Requirement already satisfied: tensorflow-io-gcs-filesystem>=0.20.0 in c:\\users\\tizbi\\appdata\\local\\programs\\python\\python39\\lib\\site-packages (from tf-nightly) (0.21.0)\n",
            "Requirement already satisfied: typing-extensions>=3.6.6 in c:\\users\\tizbi\\appdata\\local\\programs\\python\\python39\\lib\\site-packages (from tf-nightly) (3.7.4.3)\n",
            "Requirement already satisfied: gast<0.5.0,>=0.2.1 in c:\\users\\tizbi\\appdata\\local\\programs\\python\\python39\\lib\\site-packages (from tf-nightly) (0.4.0)\n",
            "Requirement already satisfied: wheel<1.0,>=0.32.0 in c:\\users\\tizbi\\appdata\\local\\programs\\python\\python39\\lib\\site-packages (from tf-nightly) (0.36.2)\n",
            "Requirement already satisfied: keras-nightly~=2.7.0.dev in c:\\users\\tizbi\\appdata\\local\\programs\\python\\python39\\lib\\site-packages (from tf-nightly) (2.7.0.dev2021100207)\n",
            "Requirement already satisfied: termcolor>=1.1.0 in c:\\users\\tizbi\\appdata\\local\\programs\\python\\python39\\lib\\site-packages (from tf-nightly) (1.1.0)\n",
            "Requirement already satisfied: grpcio<2.0,>=1.24.3 in c:\\users\\tizbi\\appdata\\local\\programs\\python\\python39\\lib\\site-packages (from tf-nightly) (1.34.1)\n",
            "Requirement already satisfied: libclang>=9.0.1 in c:\\users\\tizbi\\appdata\\local\\programs\\python\\python39\\lib\\site-packages (from tf-nightly) (12.0.0)\n",
            "Requirement already satisfied: flatbuffers<3.0,>=1.12 in c:\\users\\tizbi\\appdata\\local\\programs\\python\\python39\\lib\\site-packages (from tf-nightly) (1.12)\n",
            "Requirement already satisfied: protobuf>=3.9.2 in c:\\users\\tizbi\\appdata\\local\\programs\\python\\python39\\lib\\site-packages (from tf-nightly) (3.17.3)\n",
            "Requirement already satisfied: opt-einsum>=2.3.2 in c:\\users\\tizbi\\appdata\\local\\programs\\python\\python39\\lib\\site-packages (from tf-nightly) (3.3.0)\n",
            "Requirement already satisfied: astunparse>=1.6.0 in c:\\users\\tizbi\\appdata\\local\\programs\\python\\python39\\lib\\site-packages (from tf-nightly) (1.6.3)\n",
            "Requirement already satisfied: six>=1.12.0 in c:\\users\\tizbi\\appdata\\roaming\\python\\python39\\site-packages (from tf-nightly) (1.15.0)\n",
            "Requirement already satisfied: tf-estimator-nightly~=2.7.0.dev in c:\\users\\tizbi\\appdata\\local\\programs\\python\\python39\\lib\\site-packages (from tf-nightly) (2.7.0.dev2021092408)\n",
            "Requirement already satisfied: google-pasta>=0.1.1 in c:\\users\\tizbi\\appdata\\local\\programs\\python\\python39\\lib\\site-packages (from tf-nightly) (0.2.0)\n",
            "Requirement already satisfied: keras-preprocessing>=1.1.1 in c:\\users\\tizbi\\appdata\\local\\programs\\python\\python39\\lib\\site-packages (from tf-nightly) (1.1.2)\n",
            "Requirement already satisfied: wrapt>=1.11.0 in c:\\users\\tizbi\\appdata\\roaming\\python\\python39\\site-packages (from tf-nightly) (1.12.1)\n",
            "Requirement already satisfied: tb-nightly~=2.7.0.a in c:\\users\\tizbi\\appdata\\local\\programs\\python\\python39\\lib\\site-packages (from tf-nightly) (2.7.0a20211003)\n",
            "Requirement already satisfied: google-auth<3,>=1.6.3 in c:\\users\\tizbi\\appdata\\local\\programs\\python\\python39\\lib\\site-packages (from tb-nightly~=2.7.0.a->tf-nightly) (1.32.1)\n",
            "Requirement already satisfied: google-auth-oauthlib<0.5,>=0.4.1 in c:\\users\\tizbi\\appdata\\local\\programs\\python\\python39\\lib\\site-packages (from tb-nightly~=2.7.0.a->tf-nightly) (0.4.4)\n",
            "Requirement already satisfied: tensorboard-data-server<0.7.0,>=0.6.0 in c:\\users\\tizbi\\appdata\\local\\programs\\python\\python39\\lib\\site-packages (from tb-nightly~=2.7.0.a->tf-nightly) (0.6.1)\n",
            "Requirement already satisfied: markdown>=2.6.8 in c:\\users\\tizbi\\appdata\\local\\programs\\python\\python39\\lib\\site-packages (from tb-nightly~=2.7.0.a->tf-nightly) (3.3.4)\n",
            "Requirement already satisfied: setuptools>=41.0.0 in c:\\users\\tizbi\\appdata\\local\\programs\\python\\python39\\lib\\site-packages (from tb-nightly~=2.7.0.a->tf-nightly) (57.1.0)\n",
            "Requirement already satisfied: tensorboard-plugin-wit>=1.6.0 in c:\\users\\tizbi\\appdata\\local\\programs\\python\\python39\\lib\\site-packages (from tb-nightly~=2.7.0.a->tf-nightly) (1.8.0)\n",
            "Requirement already satisfied: werkzeug>=0.11.15 in c:\\users\\tizbi\\appdata\\local\\programs\\python\\python39\\lib\\site-packages (from tb-nightly~=2.7.0.a->tf-nightly) (2.0.1)\n",
            "Requirement already satisfied: requests<3,>=2.21.0 in c:\\users\\tizbi\\appdata\\local\\programs\\python\\python39\\lib\\site-packages (from tb-nightly~=2.7.0.a->tf-nightly) (2.25.1)\n",
            "Requirement already satisfied: pyasn1-modules>=0.2.1 in c:\\users\\tizbi\\appdata\\local\\programs\\python\\python39\\lib\\site-packages (from google-auth<3,>=1.6.3->tb-nightly~=2.7.0.a->tf-nightly) (0.2.8)\n",
            "Requirement already satisfied: rsa<5,>=3.1.4 in c:\\users\\tizbi\\appdata\\local\\programs\\python\\python39\\lib\\site-packages (from google-auth<3,>=1.6.3->tb-nightly~=2.7.0.a->tf-nightly) (4.7.2)\n",
            "Requirement already satisfied: cachetools<5.0,>=2.0.0 in c:\\users\\tizbi\\appdata\\local\\programs\\python\\python39\\lib\\site-packages (from google-auth<3,>=1.6.3->tb-nightly~=2.7.0.a->tf-nightly) (4.2.2)\n",
            "Requirement already satisfied: requests-oauthlib>=0.7.0 in c:\\users\\tizbi\\appdata\\local\\programs\\python\\python39\\lib\\site-packages (from google-auth-oauthlib<0.5,>=0.4.1->tb-nightly~=2.7.0.a->tf-nightly) (1.3.0)\n",
            "Requirement already satisfied: chardet<5,>=3.0.2 in c:\\users\\tizbi\\appdata\\local\\programs\\python\\python39\\lib\\site-packages (from requests<3,>=2.21.0->tb-nightly~=2.7.0.a->tf-nightly) (4.0.0)\n",
            "Requirement already satisfied: certifi>=2017.4.17 in c:\\users\\tizbi\\appdata\\local\\programs\\python\\python39\\lib\\site-packages (from requests<3,>=2.21.0->tb-nightly~=2.7.0.a->tf-nightly) (2021.5.30)\n",
            "Requirement already satisfied: urllib3<1.27,>=1.21.1 in c:\\users\\tizbi\\appdata\\local\\programs\\python\\python39\\lib\\site-packages (from requests<3,>=2.21.0->tb-nightly~=2.7.0.a->tf-nightly) (1.26.6)\n",
            "Requirement already satisfied: idna<3,>=2.5 in c:\\users\\tizbi\\appdata\\local\\programs\\python\\python39\\lib\\site-packages (from requests<3,>=2.21.0->tb-nightly~=2.7.0.a->tf-nightly) (2.10)\n",
            "Requirement already satisfied: pyasn1<0.5.0,>=0.4.6 in c:\\users\\tizbi\\appdata\\local\\programs\\python\\python39\\lib\\site-packages (from pyasn1-modules>=0.2.1->google-auth<3,>=1.6.3->tb-nightly~=2.7.0.a->tf-nightly) (0.4.8)\n",
            "Requirement already satisfied: oauthlib>=3.0.0 in c:\\users\\tizbi\\appdata\\local\\programs\\python\\python39\\lib\\site-packages (from requests-oauthlib>=0.7.0->google-auth-oauthlib<0.5,>=0.4.1->tb-nightly~=2.7.0.a->tf-nightly) (3.1.1)\n",
            "Requirement already satisfied: tensorflow-datasets in c:\\users\\tizbi\\appdata\\local\\programs\\python\\python39\\lib\\site-packages (4.4.0)\n",
            "Requirement already satisfied: attrs>=18.1.0 in c:\\users\\tizbi\\appdata\\local\\programs\\python\\python39\\lib\\site-packages (from tensorflow-datasets) (20.3.0)\n",
            "Requirement already satisfied: requests>=2.19.0 in c:\\users\\tizbi\\appdata\\local\\programs\\python\\python39\\lib\\site-packages (from tensorflow-datasets) (2.25.1)\n",
            "Requirement already satisfied: tensorflow-metadata in c:\\users\\tizbi\\appdata\\local\\programs\\python\\python39\\lib\\site-packages (from tensorflow-datasets) (1.2.0)\n",
            "Requirement already satisfied: dill in c:\\users\\tizbi\\appdata\\local\\programs\\python\\python39\\lib\\site-packages (from tensorflow-datasets) (0.3.4)\n",
            "Requirement already satisfied: future in c:\\users\\tizbi\\appdata\\local\\programs\\python\\python39\\lib\\site-packages (from tensorflow-datasets) (0.18.2)\n",
            "Requirement already satisfied: tqdm in c:\\users\\tizbi\\appdata\\local\\programs\\python\\python39\\lib\\site-packages (from tensorflow-datasets) (4.54.1)\n",
            "Requirement already satisfied: absl-py in c:\\users\\tizbi\\appdata\\local\\programs\\python\\python39\\lib\\site-packages (from tensorflow-datasets) (0.12.0)\n",
            "Requirement already satisfied: numpy in c:\\users\\tizbi\\appdata\\local\\programs\\python\\python39\\lib\\site-packages (from tensorflow-datasets) (1.21.2)\n",
            "Requirement already satisfied: protobuf>=3.12.2 in c:\\users\\tizbi\\appdata\\local\\programs\\python\\python39\\lib\\site-packages (from tensorflow-datasets) (3.17.3)\n",
            "Requirement already satisfied: six in c:\\users\\tizbi\\appdata\\roaming\\python\\python39\\site-packages (from tensorflow-datasets) (1.15.0)\n",
            "Requirement already satisfied: termcolor in c:\\users\\tizbi\\appdata\\local\\programs\\python\\python39\\lib\\site-packages (from tensorflow-datasets) (1.1.0)\n",
            "Requirement already satisfied: promise in c:\\users\\tizbi\\appdata\\local\\programs\\python\\python39\\lib\\site-packages (from tensorflow-datasets) (2.3)\n",
            "Requirement already satisfied: idna<3,>=2.5 in c:\\users\\tizbi\\appdata\\local\\programs\\python\\python39\\lib\\site-packages (from requests>=2.19.0->tensorflow-datasets) (2.10)\n",
            "Requirement already satisfied: certifi>=2017.4.17 in c:\\users\\tizbi\\appdata\\local\\programs\\python\\python39\\lib\\site-packages (from requests>=2.19.0->tensorflow-datasets) (2021.5.30)\n",
            "Requirement already satisfied: urllib3<1.27,>=1.21.1 in c:\\users\\tizbi\\appdata\\local\\programs\\python\\python39\\lib\\site-packages (from requests>=2.19.0->tensorflow-datasets) (1.26.6)\n",
            "Requirement already satisfied: chardet<5,>=3.0.2 in c:\\users\\tizbi\\appdata\\local\\programs\\python\\python39\\lib\\site-packages (from requests>=2.19.0->tensorflow-datasets) (4.0.0)\n",
            "Requirement already satisfied: googleapis-common-protos<2,>=1.52.0 in c:\\users\\tizbi\\appdata\\local\\programs\\python\\python39\\lib\\site-packages (from tensorflow-metadata->tensorflow-datasets) (1.53.0)\n"
          ]
        },
        {
          "name": "stderr",
          "output_type": "stream",
          "text": [
            "WARNING: You are using pip version 21.3; however, version 21.3.1 is available.\n",
            "You should consider upgrading via the 'c:\\users\\tizbi\\appdata\\local\\programs\\python\\python39\\python.exe -m pip install --upgrade pip' command.\n"
          ]
        },
        {
          "name": "stdout",
          "output_type": "stream",
          "text": [
            "2.8.0-dev20211003\n"
          ]
        }
      ],
      "source": [
        "# import libraries\n",
        "try:\n",
        "  # %tensorflow_version only exists in Colab.\n",
        "  !pip install tf-nightly\n",
        "except Exception:\n",
        "  pass\n",
        "\n",
        "import tensorflow as tf\n",
        "import pandas as pd\n",
        "from tensorflow import keras\n",
        "!pip install tensorflow-datasets\n",
        "import tensorflow_datasets as tfds\n",
        "import numpy as np\n",
        "import requests\n",
        "import io\n",
        "import matplotlib.pyplot as plt\n",
        "from tensorflow.keras.layers import TextVectorization\n",
        "from tensorflow.keras.layers import Dense, Embedding\n",
        "print(tf.__version__)"
      ]
    },
    {
      "cell_type": "code",
      "execution_count": 2,
      "metadata": {
        "id": "lMHwYXHXCar3"
      },
      "outputs": [],
      "source": [
        "# get data files\n",
        "\n",
        "train_url = 'https://cdn.freecodecamp.org/project-data/sms/train-data.tsv'\n",
        "valid_url =  'https://cdn.freecodecamp.org/project-data/sms/valid-data.tsv'\n",
        "\n",
        "train = requests.get(train_url).content\n",
        "valid = requests.get(valid_url).content\n",
        "\n",
        "train_df = pd.read_table(io.StringIO(train.decode('utf-8')),header=None,names =['label','message'])\n",
        "test_df = pd.read_table(io.StringIO(valid.decode('utf-8')),header=None,names =['label','message'])"
      ]
    },
    {
      "cell_type": "markdown",
      "metadata": {
        "id": "G2j_ZzsNDpjy"
      },
      "source": [
        "Load Data"
      ]
    },
    {
      "cell_type": "code",
      "execution_count": 3,
      "metadata": {
        "id": "zOMKywn4zReN"
      },
      "outputs": [
        {
          "data": {
            "text/html": [
              "<div>\n",
              "<style scoped>\n",
              "    .dataframe tbody tr th:only-of-type {\n",
              "        vertical-align: middle;\n",
              "    }\n",
              "\n",
              "    .dataframe tbody tr th {\n",
              "        vertical-align: top;\n",
              "    }\n",
              "\n",
              "    .dataframe thead th {\n",
              "        text-align: right;\n",
              "    }\n",
              "</style>\n",
              "<table border=\"1\" class=\"dataframe\">\n",
              "  <thead>\n",
              "    <tr style=\"text-align: right;\">\n",
              "      <th></th>\n",
              "      <th>label</th>\n",
              "      <th>message</th>\n",
              "    </tr>\n",
              "  </thead>\n",
              "  <tbody>\n",
              "    <tr>\n",
              "      <th>0</th>\n",
              "      <td>ham</td>\n",
              "      <td>ahhhh...just woken up!had a bad dream about u ...</td>\n",
              "    </tr>\n",
              "    <tr>\n",
              "      <th>1</th>\n",
              "      <td>ham</td>\n",
              "      <td>you can never do nothing</td>\n",
              "    </tr>\n",
              "    <tr>\n",
              "      <th>2</th>\n",
              "      <td>ham</td>\n",
              "      <td>now u sound like manky scouse boy steve,like! ...</td>\n",
              "    </tr>\n",
              "    <tr>\n",
              "      <th>3</th>\n",
              "      <td>ham</td>\n",
              "      <td>mum say we wan to go then go... then she can s...</td>\n",
              "    </tr>\n",
              "    <tr>\n",
              "      <th>4</th>\n",
              "      <td>ham</td>\n",
              "      <td>never y lei... i v lazy... got wat? dat day ü ...</td>\n",
              "    </tr>\n",
              "  </tbody>\n",
              "</table>\n",
              "</div>"
            ],
            "text/plain": [
              "  label                                            message\n",
              "0   ham  ahhhh...just woken up!had a bad dream about u ...\n",
              "1   ham                           you can never do nothing\n",
              "2   ham  now u sound like manky scouse boy steve,like! ...\n",
              "3   ham  mum say we wan to go then go... then she can s...\n",
              "4   ham  never y lei... i v lazy... got wat? dat day ü ..."
            ]
          },
          "execution_count": 3,
          "metadata": {},
          "output_type": "execute_result"
        }
      ],
      "source": [
        "train_df.head()"
      ]
    },
    {
      "cell_type": "code",
      "execution_count": 4,
      "metadata": {
        "id": "lx7Nr1MVC8Jr"
      },
      "outputs": [
        {
          "data": {
            "text/html": [
              "<div>\n",
              "<style scoped>\n",
              "    .dataframe tbody tr th:only-of-type {\n",
              "        vertical-align: middle;\n",
              "    }\n",
              "\n",
              "    .dataframe tbody tr th {\n",
              "        vertical-align: top;\n",
              "    }\n",
              "\n",
              "    .dataframe thead th {\n",
              "        text-align: right;\n",
              "    }\n",
              "</style>\n",
              "<table border=\"1\" class=\"dataframe\">\n",
              "  <thead>\n",
              "    <tr style=\"text-align: right;\">\n",
              "      <th></th>\n",
              "      <th>label</th>\n",
              "      <th>message</th>\n",
              "    </tr>\n",
              "  </thead>\n",
              "  <tbody>\n",
              "    <tr>\n",
              "      <th>0</th>\n",
              "      <td>ham</td>\n",
              "      <td>i am in hospital da. . i will return home in e...</td>\n",
              "    </tr>\n",
              "    <tr>\n",
              "      <th>1</th>\n",
              "      <td>ham</td>\n",
              "      <td>not much, just some textin'. how bout you?</td>\n",
              "    </tr>\n",
              "    <tr>\n",
              "      <th>2</th>\n",
              "      <td>ham</td>\n",
              "      <td>i probably won't eat at all today. i think i'm...</td>\n",
              "    </tr>\n",
              "    <tr>\n",
              "      <th>3</th>\n",
              "      <td>ham</td>\n",
              "      <td>don‘t give a flying monkeys wot they think and...</td>\n",
              "    </tr>\n",
              "    <tr>\n",
              "      <th>4</th>\n",
              "      <td>ham</td>\n",
              "      <td>who are you seeing?</td>\n",
              "    </tr>\n",
              "  </tbody>\n",
              "</table>\n",
              "</div>"
            ],
            "text/plain": [
              "  label                                            message\n",
              "0   ham  i am in hospital da. . i will return home in e...\n",
              "1   ham         not much, just some textin'. how bout you?\n",
              "2   ham  i probably won't eat at all today. i think i'm...\n",
              "3   ham  don‘t give a flying monkeys wot they think and...\n",
              "4   ham                                who are you seeing?"
            ]
          },
          "execution_count": 4,
          "metadata": {},
          "output_type": "execute_result"
        }
      ],
      "source": [
        "test_df.head()"
      ]
    },
    {
      "cell_type": "code",
      "execution_count": 5,
      "metadata": {
        "id": "aWgDCdY1DAl9"
      },
      "outputs": [
        {
          "data": {
            "text/plain": [
              "label      0\n",
              "message    0\n",
              "dtype: int64"
            ]
          },
          "execution_count": 5,
          "metadata": {},
          "output_type": "execute_result"
        }
      ],
      "source": [
        "train_df.isnull().sum()"
      ]
    },
    {
      "cell_type": "code",
      "execution_count": 6,
      "metadata": {
        "id": "AiXcmf88DNqe"
      },
      "outputs": [
        {
          "data": {
            "text/plain": [
              "label      0\n",
              "message    0\n",
              "dtype: int64"
            ]
          },
          "execution_count": 6,
          "metadata": {},
          "output_type": "execute_result"
        }
      ],
      "source": [
        "test_df.isnull().sum()"
      ]
    },
    {
      "cell_type": "markdown",
      "metadata": {
        "id": "5SMnCDIwwgxi"
      },
      "source": [
        "convert label to numerical variable"
      ]
    },
    {
      "cell_type": "code",
      "execution_count": 7,
      "metadata": {
        "id": "yiMcPF_naqjJ"
      },
      "outputs": [],
      "source": [
        "train_df['label']= pd.get_dummies(train_df['label'])\n",
        "test_df['label'] = pd.get_dummies(test_df['label'])\n"
      ]
    },
    {
      "cell_type": "code",
      "execution_count": 8,
      "metadata": {
        "id": "6E7T9R5kUBQf"
      },
      "outputs": [
        {
          "data": {
            "text/html": [
              "<div>\n",
              "<style scoped>\n",
              "    .dataframe tbody tr th:only-of-type {\n",
              "        vertical-align: middle;\n",
              "    }\n",
              "\n",
              "    .dataframe tbody tr th {\n",
              "        vertical-align: top;\n",
              "    }\n",
              "\n",
              "    .dataframe thead th {\n",
              "        text-align: right;\n",
              "    }\n",
              "</style>\n",
              "<table border=\"1\" class=\"dataframe\">\n",
              "  <thead>\n",
              "    <tr style=\"text-align: right;\">\n",
              "      <th></th>\n",
              "      <th>label</th>\n",
              "      <th>message</th>\n",
              "    </tr>\n",
              "  </thead>\n",
              "  <tbody>\n",
              "    <tr>\n",
              "      <th>4174</th>\n",
              "      <td>1</td>\n",
              "      <td>just woke up. yeesh its late. but i didn't fal...</td>\n",
              "    </tr>\n",
              "    <tr>\n",
              "      <th>4175</th>\n",
              "      <td>1</td>\n",
              "      <td>what do u reckon as need 2 arrange transport i...</td>\n",
              "    </tr>\n",
              "    <tr>\n",
              "      <th>4176</th>\n",
              "      <td>0</td>\n",
              "      <td>free entry into our £250 weekly competition ju...</td>\n",
              "    </tr>\n",
              "    <tr>\n",
              "      <th>4177</th>\n",
              "      <td>0</td>\n",
              "      <td>-pls stop bootydelious (32/f) is inviting you ...</td>\n",
              "    </tr>\n",
              "    <tr>\n",
              "      <th>4178</th>\n",
              "      <td>1</td>\n",
              "      <td>tell my  bad character which u dnt lik in me. ...</td>\n",
              "    </tr>\n",
              "  </tbody>\n",
              "</table>\n",
              "</div>"
            ],
            "text/plain": [
              "      label                                            message\n",
              "4174      1  just woke up. yeesh its late. but i didn't fal...\n",
              "4175      1  what do u reckon as need 2 arrange transport i...\n",
              "4176      0  free entry into our £250 weekly competition ju...\n",
              "4177      0  -pls stop bootydelious (32/f) is inviting you ...\n",
              "4178      1  tell my  bad character which u dnt lik in me. ..."
            ]
          },
          "execution_count": 8,
          "metadata": {},
          "output_type": "execute_result"
        }
      ],
      "source": [
        "train_df.tail()"
      ]
    },
    {
      "cell_type": "markdown",
      "metadata": {
        "id": "CZ_Kiauw3eN8"
      },
      "source": [
        "Put data in appropriate structure"
      ]
    },
    {
      "cell_type": "code",
      "execution_count": 9,
      "metadata": {
        "id": "bZaTYZuM3kmK"
      },
      "outputs": [
        {
          "name": "stdout",
          "output_type": "stream",
          "text": [
            "(TensorSpec(shape=(), dtype=tf.string, name=None), TensorSpec(shape=(), dtype=tf.uint8, name=None)) (TensorSpec(shape=(), dtype=tf.string, name=None), TensorSpec(shape=(), dtype=tf.uint8, name=None))\n"
          ]
        }
      ],
      "source": [
        "train_dataset = tf.data.Dataset.from_tensor_slices((train_df[\"message\"].values, train_df[\"label\"].values))\n",
        "test_dataset = tf.data.Dataset.from_tensor_slices((test_df[\"message\"].values, test_df[\"label\"].values))\n",
        "\n",
        "print(train_dataset.element_spec,test_dataset.element_spec)"
      ]
    },
    {
      "cell_type": "code",
      "execution_count": 10,
      "metadata": {
        "id": "SPWbE3sQ-U1Y"
      },
      "outputs": [],
      "source": [
        "# prefetching / buffering of the data for best performance on GPU\n",
        "train_dataset = train_dataset.shuffle(buffer_size =100).batch(batch_size = 30).prefetch(tf.data.AUTOTUNE)\n",
        "test_dataset = test_dataset.batch(batch_size = 30).prefetch(tf.data.AUTOTUNE)"
      ]
    },
    {
      "cell_type": "markdown",
      "metadata": {
        "id": "41oss4MHI6A_"
      },
      "source": [
        "Text Preprocessing : TextVectorization"
      ]
    },
    {
      "cell_type": "code",
      "execution_count": 11,
      "metadata": {
        "id": "1nWgosFH6sXJ"
      },
      "outputs": [],
      "source": [
        "# constants.\n",
        "max_features = 1000\n",
        "embedding_dim = 50\n",
        "sequence_length = 100\n",
        "\n",
        "#define vetorization layer\n",
        "vectorize_layer = TextVectorization(\n",
        "max_tokens=max_features,\n",
        "output_mode='int',\n",
        "output_sequence_length=sequence_length)\n",
        "\n",
        "text_ds = train_dataset.map(lambda x, y: x)\n",
        "vectorize_layer.adapt(text_ds)\n"
      ]
    },
    {
      "cell_type": "markdown",
      "metadata": {
        "id": "rROH2rpEsFko"
      },
      "source": [
        "Build Model"
      ]
    },
    {
      "cell_type": "code",
      "execution_count": 12,
      "metadata": {
        "id": "jHDDtoKxvHOk"
      },
      "outputs": [],
      "source": [
        "model = tf.keras.models.Sequential([\n",
        "  vectorize_layer,\n",
        "  tf.keras.Input(shape=(1,), dtype=tf.string),\n",
        "  tf.keras.layers.Embedding(max_features + 1, embedding_dim),\n",
        "  tf.keras.layers.Bidirectional(tf.keras.layers.LSTM(128,  return_sequences=True)),\n",
        "  tf.keras.layers.Bidirectional(tf.keras.layers.LSTM(64)),\n",
        "  tf.keras.layers.Dense(64, activation='relu'),\n",
        "  tf.keras.layers.Dense(32, activation='relu'),\n",
        "  tf.keras.layers.Dense(32, activation='relu'),\n",
        "  tf.keras.layers.Dense(16, activation='relu'),\n",
        "  tf.keras.layers.Dense(16, activation='relu'),\n",
        "  tf.keras.layers.Dropout(0.2),\n",
        "  tf.keras.layers.Dense(1)\n",
        "])"
      ]
    },
    {
      "cell_type": "code",
      "execution_count": 13,
      "metadata": {
        "id": "qqjFTiobvbCO"
      },
      "outputs": [
        {
          "name": "stdout",
          "output_type": "stream",
          "text": [
            "Model: \"sequential\"\n",
            "_________________________________________________________________\n",
            " Layer (type)                Output Shape              Param #   \n",
            "=================================================================\n",
            " text_vectorization (TextVec  (None, 100)              0         \n",
            " torization)                                                     \n",
            "                                                                 \n",
            " embedding (Embedding)       (None, 100, 50)           50000     \n",
            "                                                                 \n",
            " bidirectional (Bidirectiona  (None, 100, 256)         183296    \n",
            " l)                                                              \n",
            "                                                                 \n",
            " bidirectional_1 (Bidirectio  (None, 128)              164352    \n",
            " nal)                                                            \n",
            "                                                                 \n",
            " dense (Dense)               (None, 64)                8256      \n",
            "                                                                 \n",
            " dense_1 (Dense)             (None, 32)                2080      \n",
            "                                                                 \n",
            " dense_2 (Dense)             (None, 32)                1056      \n",
            "                                                                 \n",
            " dropout (Dropout)           (None, 32)                0         \n",
            "                                                                 \n",
            " dense_3 (Dense)             (None, 1)                 33        \n",
            "                                                                 \n",
            "=================================================================\n",
            "Total params: 409,073\n",
            "Trainable params: 409,073\n",
            "Non-trainable params: 0\n",
            "_________________________________________________________________\n"
          ]
        }
      ],
      "source": [
        "model.compile(\n",
        "    loss=tf.keras.losses.BinaryCrossentropy(from_logits=True),\n",
        "    optimizer=tf.keras.optimizers.Adam(1e-4),\n",
        "    metrics=['accuracy'])\n",
        "model.summary()"
      ]
    },
    {
      "cell_type": "markdown",
      "metadata": {
        "id": "m7YyrN20tH21"
      },
      "source": [
        "Fit model and plot history"
      ]
    },
    {
      "cell_type": "code",
      "execution_count": 14,
      "metadata": {
        "id": "C0GIpcGksexO"
      },
      "outputs": [],
      "source": [
        "history = model.fit(train_dataset,\n",
        "                    epochs=20,\n",
        "                    verbose=False,\n",
        "                    validation_data=test_dataset,\n",
        "                    validation_steps=20,\n",
        "                    batch_size=10)\n"
      ]
    },
    {
      "cell_type": "code",
      "execution_count": 15,
      "metadata": {
        "id": "_pfE5_v1p6Zr"
      },
      "outputs": [
        {
          "name": "stdout",
          "output_type": "stream",
          "text": [
            "Training Accuracy: 0.9988\n",
            "Testing Accuracy:  0.9828\n"
          ]
        }
      ],
      "source": [
        "loss, accuracy = model.evaluate(train_dataset, verbose=False)\n",
        "print(\"Training Accuracy: {:.4f}\".format(accuracy))\n",
        "loss, accuracy = model.evaluate(test_dataset, verbose=False)\n",
        "print(\"Testing Accuracy:  {:.4f}\".format(accuracy))"
      ]
    },
    {
      "cell_type": "markdown",
      "metadata": {
        "id": "MKMZdp2KNhF7"
      },
      "source": [
        "plot train test error"
      ]
    },
    {
      "cell_type": "code",
      "execution_count": 16,
      "metadata": {
        "id": "1YQCRIByNgDl"
      },
      "outputs": [
        {
          "data": {
            "image/png": "[encoded data removed]",
            "text/plain": [
              "<Figure size 576x576 with 2 Axes>"
            ]
          },
          "metadata": {
            "needs_background": "light"
          },
          "output_type": "display_data"
        }
      ],
      "source": [
        "acc = history.history['accuracy']\n",
        "val_acc = history.history['val_accuracy']\n",
        "\n",
        "loss = history.history['loss']\n",
        "val_loss = history.history['val_loss']\n",
        "\n",
        "epochs_range = range(20)\n",
        "\n",
        "plt.figure(figsize=(8, 8))\n",
        "plt.subplot(1, 2, 1)\n",
        "plt.plot(epochs_range, acc, label='Training Accuracy')\n",
        "plt.plot(epochs_range, val_acc, label='Validation Accuracy')\n",
        "plt.legend(loc='lower right')\n",
        "plt.title('Training and Validation Accuracy')\n",
        "\n",
        "plt.subplot(1, 2, 2)\n",
        "plt.plot(epochs_range, loss, label='Training Loss')\n",
        "plt.plot(epochs_range, val_loss, label='Validation Loss')\n",
        "plt.legend(loc='upper right')\n",
        "plt.title('Training and Validation Loss')\n",
        "plt.show()"
      ]
    },
    {
      "cell_type": "code",
      "execution_count": 17,
      "metadata": {},
      "outputs": [
        {
          "name": "stdout",
          "output_type": "stream",
          "text": [
            "[10.375291, 'spam']\n"
          ]
        }
      ],
      "source": [
        "\n",
        "def predict_message(pred_text):\n",
        "    result = model.predict([pred_text])\n",
        "    predict = result[0][0]\n",
        "    return [predict, \"ham\" if predict < 0.5 else \"spam\"]\n",
        "\n",
        "pred_text = \"wow, is your arm alright. that happened to me one time too\"\n",
        "\n",
        "prediction = predict_message(pred_text)\n",
        "print(prediction)"
      ]
    },
    {
      "cell_type": "code",
      "execution_count": 18,
      "metadata": {
        "id": "Dxotov85SjsC"
      },
      "outputs": [
        {
          "name": "stdout",
          "output_type": "stream",
          "text": [
            "You haven't passed yet. Keep trying.\n"
          ]
        }
      ],
      "source": [
        "# Run this cell to test your function and model. Do not modify contents.\n",
        "def test_predictions():\n",
        "  test_messages = [\"how are you doing today\",\n",
        "                   \"sale today! to stop texts call 98912460324\",\n",
        "                   \"i dont want to go. can we try it a different day? available sat\",\n",
        "                   \"our new mobile video service is live. just install on your phone to start watching.\",\n",
        "                   \"you have won £1000 cash! call to claim your prize.\",\n",
        "                   \"i'll bring it tomorrow. don't forget the milk.\",\n",
        "                   \"wow, is your arm alright. that happened to me one time too\"\n",
        "                  ]\n",
        "\n",
        "  test_answers = [\"ham\", \"spam\", \"ham\", \"spam\", \"spam\", \"ham\", \"ham\"]\n",
        "  passed = True\n",
        "\n",
        "  for msg, ans in zip(test_messages, test_answers):\n",
        "    prediction = predict_message(msg)\n",
        "    if prediction[1] != ans:\n",
        "      passed = False\n",
        "\n",
        "  if passed:\n",
        "    print(\"You passed the challenge. Great job!\")\n",
        "  else:\n",
        "    print(\"You haven't passed yet. Keep trying.\")\n",
        "\n",
        "test_predictions()\n"
      ]
    },
    {
      "cell_type": "code",
      "execution_count": 19,
      "metadata": {},
      "outputs": [
        {
          "name": "stderr",
          "output_type": "stream",
          "text": [
            "WARNING:absl:Found untraced functions such as lstm_cell_1_layer_call_fn, lstm_cell_1_layer_call_and_return_conditional_losses, lstm_cell_2_layer_call_fn, lstm_cell_2_layer_call_and_return_conditional_losses, lstm_cell_4_layer_call_fn while saving (showing 5 of 20). These functions will not be directly callable after loading.\n"
          ]
        },
        {
          "name": "stdout",
          "output_type": "stream",
          "text": [
            "INFO:tensorflow:Assets written to: classifier_model\\assets\n"
          ]
        },
        {
          "name": "stderr",
          "output_type": "stream",
          "text": [
            "INFO:tensorflow:Assets written to: classifier_model\\assets\n",
            "WARNING:absl:<keras.layers.recurrent.LSTMCell object at 0x000002018BF331C0> has the same name 'LSTMCell' as a built-in Keras object. Consider renaming <class 'keras.layers.recurrent.LSTMCell'> to avoid naming conflicts when loading with `tf.keras.models.load_model`. If renaming is not possible, pass the object in the `custom_objects` parameter of the load function.\n",
            "WARNING:absl:<keras.layers.recurrent.LSTMCell object at 0x000002018BF33D30> has the same name 'LSTMCell' as a built-in Keras object. Consider renaming <class 'keras.layers.recurrent.LSTMCell'> to avoid naming conflicts when loading with `tf.keras.models.load_model`. If renaming is not possible, pass the object in the `custom_objects` parameter of the load function.\n",
            "WARNING:absl:<keras.layers.recurrent.LSTMCell object at 0x000002018BCA4910> has the same name 'LSTMCell' as a built-in Keras object. Consider renaming <class 'keras.layers.recurrent.LSTMCell'> to avoid naming conflicts when loading with `tf.keras.models.load_model`. If renaming is not possible, pass the object in the `custom_objects` parameter of the load function.\n",
            "WARNING:absl:<keras.layers.recurrent.LSTMCell object at 0x000002018BF1F910> has the same name 'LSTMCell' as a built-in Keras object. Consider renaming <class 'keras.layers.recurrent.LSTMCell'> to avoid naming conflicts when loading with `tf.keras.models.load_model`. If renaming is not possible, pass the object in the `custom_objects` parameter of the load function.\n"
          ]
        }
      ],
      "source": [
        "#save model\n",
        "model.save(\"classifier_model\")"
      ]
    }
  ],
  "metadata": {
    "accelerator": "GPU",
    "colab": {
      "collapsed_sections": [],
      "name": "Copy of fcc_sms_text_classification.ipynb",
      "private_outputs": true,
      "provenance": []
    },
    "interpreter": {
      "hash": "87593004890795b5ea07cb214f16b9d78b110a6687b9ea4e8fa88f0596e67e61"
    },
    "kernelspec": {
      "display_name": "Python 3.9.0 64-bit",
      "name": "python3"
    },
    "language_info": {
      "codemirror_mode": {
        "name": "ipython",
        "version": 3
      },
      "file_extension": ".py",
      "mimetype": "text/x-python",
      "name": "python",
      "nbconvert_exporter": "python",
      "pygments_lexer": "ipython3",
      "version": "3.9.0"
    }
  },
  "nbformat": 4,
  "nbformat_minor": 0
}
